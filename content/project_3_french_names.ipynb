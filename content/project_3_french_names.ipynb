{
 "cells": [
  {
   "cell_type": "markdown",
   "metadata": {},
   "source": [
    "# Project \\#3 French names\n",
    "\n",
    "Requirements: Python coding bootcamps 1, 2 & 3.\n",
    "\n",
    "Download page: https://www.insee.fr/fr/statistiques/2540004/\n",
    "\n",
    "Section: `Fichiers France hors Mayotte`\n",
    "\n",
    "File format: `csv`\n",
    "\n",
    "File size: `2 Mo`\n",
    "\n",
    "Zip name: `nat2021_csv.zip`\n",
    "\n",
    "Semi-colon delimited CSV file name: `nat2021.csv`"
   ]
  },
  {
   "cell_type": "markdown",
   "metadata": {},
   "source": [
    "#### Objective\n",
    "\n",
    "The objective of this project is to download the dataset, and to load and transform the `DataFrame` so that **it has exactly the same characteristics** than the full US `DataFrame` that we have studied in the Python coding bootcamp.\n",
    "\n",
    "To read properly the file, you should use the pandas `read_csv()` function with the appropriate arguments, please refer to the pandas documentation.\n",
    "\n",
    "Requirements:\n",
    "\n",
    "- The `DataFrame` has the appropriate shape: N rows x 4 columns\n",
    "\n",
    "- The column names are properly set\n",
    "\n",
    "- Columns are properly ordered: `year`, `name`, `gender` and `births`\n",
    "\n",
    "- The data type, or `dtype`, of each column is properly set\n",
    "\n",
    "- The values of the `gender` column are properly set: `'F'` for female and `'M'` for male\n",
    "\n",
    "- Names with a single character are discarded\n",
    "\n",
    "- The case of all names is properly modified: all initials are upper case and other letters lower case\n",
    "\n",
    "- Rows with unusable values are discarded\n",
    "\n",
    "- Data are properly sorted: `year`, `gender`, `births` (descending) and `name`\n",
    "\n",
    "- The index of the `DataFrame` is properly set: 0 to N-1. For this last requirement you should use the `reset_index()` method of `DataFrame`  with the appropriate arguments, please refer to the pandas documentation.\n",
    "\n",
    "*Nota bene*: The French dataset discarded names with fewer than 3 occurrences instead of 5 for the US one. We let the limit of 3 since the French dataset is smaller than the US one. Therefore, there is no requirements for this point."
   ]
  }
 ],
 "metadata": {
  "kernelspec": {
   "display_name": "Python 3 (ipykernel)",
   "language": "python",
   "name": "python3"
  },
  "language_info": {
   "codemirror_mode": {
    "name": "ipython",
    "version": 3
   },
   "file_extension": ".py",
   "mimetype": "text/x-python",
   "name": "python",
   "nbconvert_exporter": "python",
   "pygments_lexer": "ipython3",
   "version": "3.10.12"
  }
 },
 "nbformat": 4,
 "nbformat_minor": 4
}
