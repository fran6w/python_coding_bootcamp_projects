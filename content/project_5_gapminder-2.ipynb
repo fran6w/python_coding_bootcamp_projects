{
 "cells": [
  {
   "cell_type": "markdown",
   "metadata": {},
   "source": [
    "# Project \\#5 the Gapminder dataset 2/2"
   ]
  },
  {
   "cell_type": "markdown",
   "metadata": {},
   "source": [
    "Requirements: Python coding bootcamps 1, 2, 3 & 4.\n",
    "\n",
    "There are 4 files for this project:\n",
    "- `population_total.csv`: total population, per country and per year (1800 to 2018)\n",
    "- `life_expectancy_years.csv`: life expectancy, per country and per year (1800 to 2018)\n",
    "- `income_per_person.csv`: income per person, per country and per year (1800 to 2018)\n",
    "- `countries_total.csv`: countries and regions (Asia, Europe, Africa, Oceania, Americas)"
   ]
  },
  {
   "cell_type": "markdown",
   "metadata": {},
   "source": [
    "**Important note about the `geo` columns accross the `DataFrame` objects**: \n",
    "- The 3 first files contain a field named `geo` with the names of the different countries. The last file contains also a column with the different countries. It is renamed to `geo` on load to ease the merges that would have to be performed (option `on='geo'` of `merge()` function).\n",
    "- The name of the countries have to be processed as is, without trying to homogenize them accross the different files.\n",
    "- In order to avoid discrepancies between results, all joins should be performed by using the `how='inner'`option."
   ]
  },
  {
   "cell_type": "markdown",
   "metadata": {},
   "source": [
    "#### Questions\n",
    "\n",
    "**A. In this part, we will only deal with the data for year 2018 (cont.)**\n",
    "\n",
    "- Perform an inner join between the life expectancy and the total population `DataFrame` objects, then an inner join with the result and the country `DataFrame` object. Remember that overlapping columns names are renamed automatically with the `_x` and `_y` suffixes in the left and right side:\n",
    "\n",
    "1) What is the weighted average life expectancy in 2018 (°) (+)?\n",
    "\n",
    "2) What is the largest weighted average life expectancy by region in 2018 (°) (+)?\n",
    "\n",
    "3) What is the smallest weighted average life expectancy by region in 2018 (°) (+)?\n",
    "\n",
    "- Perform an inner join between the income per person and the total population `DataFrame` objects, then an inner join with the result and the country `DataFrame` objects. Remember that overlapping columns are renamed automatically with the `_x` and `_y` suffixes in the left and right side:\n",
    "\n",
    "4) What is the weighted average income per person in 2018 (°) (++)?\n",
    "\n",
    "5) Which region has the largest weighted average income per person in 2018 (++)?\n",
    "\n",
    "6) Which region has the smallest weighted average income per person in 2018 (++)?\n",
    "\n",
    "(+) The *weighted average life expectancy* is computed with the sum of the products of life expectancy by total population of each country divided by the sum of total population of each country. It can be computed for all countries in the world or for all countries in each region.\n",
    "\n",
    "Hint: weighted average life expectancy $= \\frac{\\displaystyle\\sum_{i} life_{i} \\times pop_{i}}{\\displaystyle\\sum_{i} pop_{i}}$\n",
    "\n",
    "(++) The *weighted average income per person* is computed with the sum of the products of income per person by total population of each country divided by the sum of total population of each country. It can be computed for all countries in the world or for all countries in each region.\n",
    "\n",
    "Hint: weighted average income per person $= \\frac{\\displaystyle\\sum_{i} income_{i} \\times pop_{i}}{\\displaystyle\\sum_{i} pop_{i}}$"
   ]
  },
  {
   "cell_type": "markdown",
   "metadata": {},
   "source": [
    "**B. In this part, we deal with data for all years**\n",
    "\n",
    "7) Which country has the smallest mean life expectancy accross years?\n",
    "\n",
    "8) Which country has the smallest mean income per person accross years?\n",
    "\n",
    "9) Compute the correlation of total population between all countries accross years. Which country has the highest mean correlation with the other ones? \n",
    "\n",
    "10) Compute the correlation of life expectancy between all countries accross years. Which country has the highest mean correlation of life expectancy with the other ones? \n",
    "\n",
    "11) Compute the correlation of income per person between all countries accross years. Which country has the highest mean correlation of income per person with the other ones?\n",
    "\n",
    "12) Perform a wide to long format transformation of the total population `DataFrame` object by using the `melt()` function. What is the length of the new `DataFrame` object for total population?\n",
    "\n",
    "13) Perform a wide to long format transformation of the life expectancy `DataFrame` object by using the `melt()` function. What is the length of the new `DataFrame` object for life expectancy?\n",
    "\n",
    "14) Perform a wide to long format transformation of the income per person `DataFrame` object by using the `melt()` function. What is the length of the new `DataFrame` object for income per person?\n",
    "\n",
    "15) Perform 3 wide to long format transformations of the total population, life expectancy and income per person `DataFrame` objects by using the `melt()` function. Then perform an inner join of the 2 first `DataFrame` objects on both `geo` and `Year` by using the `merge()` function. Then perform another inner join of this `DataFrame` object and the third one. You should obtain a final `DataFrame` object with 5 columns: `geo`, `Year`, `Total Population`, `Life Expectancy` and `Income Per Person`. Remove lines with `NA` . What is the length of the final `DataFrame` object obtained?"
   ]
  }
 ],
 "metadata": {
  "kernelspec": {
   "display_name": "Python 3 (ipykernel)",
   "language": "python",
   "name": "python3"
  },
  "language_info": {
   "codemirror_mode": {
    "name": "ipython",
    "version": 3
   },
   "file_extension": ".py",
   "mimetype": "text/x-python",
   "name": "python",
   "nbconvert_exporter": "python",
   "pygments_lexer": "ipython3",
   "version": "3.10.12"
  }
 },
 "nbformat": 4,
 "nbformat_minor": 4
}
