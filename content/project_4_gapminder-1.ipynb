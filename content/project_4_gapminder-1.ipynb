{
 "cells": [
  {
   "cell_type": "markdown",
   "metadata": {},
   "source": [
    "# Project \\#4 the Gapminder dataset 1/2"
   ]
  },
  {
   "cell_type": "markdown",
   "metadata": {},
   "source": [
    "Requirements: Python coding bootcamps 1, 2, 3 & 4.\n",
    "\n",
    "There are 4 files for this project:\n",
    "- `population_total.csv`: total population, per country and per year (1800 to 2018)\n",
    "- `life_expectancy_years.csv`: life expectancy, per country and per year (1800 to 2018)\n",
    "- `income_per_person.csv`: income per person, per country and per year (1800 to 2018)\n",
    "- `countries_total.csv`: countries and regions (Asia, Europe, Africa, Oceania, Americas)"
   ]
  },
  {
   "cell_type": "markdown",
   "metadata": {},
   "source": [
    "**Important note about the `geo` columns accross the `DataFrame` objects**: \n",
    "- The 3 first files contain a field named `geo` with the names of the different countries. The last file contains also a column with the different countries. It is renamed to `geo` on load to ease the merges that would have to be performed (option `on='geo'` of `merge()` function).\n",
    "- The name of the countries have to be processed as is, without trying to homogenize them accross the different files.\n",
    "- In order to avoid discrepancies between results, all joins should be performed by using the `how='inner'`option."
   ]
  },
  {
   "cell_type": "markdown",
   "metadata": {},
   "source": [
    "#### Questions\n",
    "\n",
    "**A. In this part, we will only deal with the data for year 2018**\n",
    "\n",
    "- Total population by country in 2018:\n",
    "\n",
    "1) What is the sum of the total population in 2018?\n",
    "\n",
    "2) Which country has the largest total population in 2018?\n",
    "\n",
    "3) Which country has the smallest total population in 2018?\n",
    "\n",
    "- Life expectation by country in 2018:\n",
    "\n",
    "4) What is the average life expectancy in 2018 (°)?\n",
    "\n",
    "5) What is the difference between the largest and the smallest life expectancy in 2018?\n",
    "\n",
    "6) Which country has the largest life expectancy in 2018?\n",
    "\n",
    "7) Which country has the smallest life expectancy in 2018?\n",
    "\n",
    "8) In 2018, below which life expectancy threshold a country is in the first decile (°)?\n",
    "\n",
    "- Income per person by country in 2018:\n",
    "\n",
    "9) What is the average income per person in 2018 (°)?\n",
    "\n",
    "10) What is the ratio between the largest and the smallest income per person in 2018 (°)?\n",
    "\n",
    "11) Which country has the largest income per person in 2018?\n",
    "\n",
    "12) Which country has the smallest income per person in 2018?\n",
    "\n",
    "13) In 2018, above which income per person threshold a country is in the last decile (°)?\n",
    "\n",
    "- Perform an inner join between the population and the country `DataFrame` objects:\n",
    "\n",
    "14) Which region has the largest total population in 2018?\n",
    "\n",
    "15) Which region has the smallest total population in 2018?"
   ]
  }
 ],
 "metadata": {
  "kernelspec": {
   "display_name": "Python 3 (ipykernel)",
   "language": "python",
   "name": "python3"
  },
  "language_info": {
   "codemirror_mode": {
    "name": "ipython",
    "version": 3
   },
   "file_extension": ".py",
   "mimetype": "text/x-python",
   "name": "python",
   "nbconvert_exporter": "python",
   "pygments_lexer": "ipython3",
   "version": "3.10.12"
  }
 },
 "nbformat": 4,
 "nbformat_minor": 4
}
