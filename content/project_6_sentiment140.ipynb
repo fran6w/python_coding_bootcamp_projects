{
 "cells": [
  {
   "cell_type": "markdown",
   "metadata": {},
   "source": [
    "# Project \\#6 the Sentiment140 dataset\n",
    "\n",
    "Requirements: Python coding bootcamps 1, 2, 3 & 4.\n",
    "\n",
    "The sentiment140 dataset contains 1,600,000 tweets extracted using the twitter api from April to June 2009. The tweets have been annotated (0 = negative, 4 = positive) and they can be used to detect sentiment.\n",
    "\n",
    "Source: kaggle.com"
   ]
  },
  {
   "cell_type": "markdown",
   "metadata": {},
   "source": [
    "As the file is quite large (230MB), we use a subset of this dataset, where we selected only tweets containing the strings (not only isolated words) `\"good\"` or `\"bad\"`. The subset for this project contains 103,259 tweets in the file `sample16000000.csv`:\n",
    "\n",
    "- date: datetime of the tweet in the format: year-month-day hours:minutes:seconds\n",
    "- score: polarity of the tweet: 0=negative and 4=positive\n",
    "- user: user who produced the tweet\n",
    "- text: text of the tweet"
   ]
  },
  {
   "cell_type": "markdown",
   "metadata": {},
   "source": [
    "#### Questions\n",
    "\n",
    "**A. In this part, we explore the time series aspect of the dataset**\n",
    "\n",
    "1) Pick up the datetime of the first row in the dataset and produce a string in the exact format `day/month/year`, example `\"25/12/2021\"`, using the `strftime()` method.\n",
    "\n",
    "2) Pick up the datetime of the last row in dataset and produce a string in the exact format `month day, year`, example `\"Dec 25, 2021\"`, using the `strftime()` method.\n",
    "\n",
    "3) How many days with at least one tweet do we have?\n",
    "\n",
    "4) What is the maximum number of tweets in a day?\n",
    "\n",
    "5) What is the minimum number of tweets in a day with at least one tweet?\n",
    "\n",
    "6) What is the average number of tweets in a day with at least one tweet?\n",
    "\n",
    "7) If we consider only the hours of the day (0 to 23) where the tweets have been produced, at what hour do we have the minimum number of tweets?\n",
    "\n",
    "8) If we consider only the hours of the day (0 to 23) where the tweets have been produced, at what hour do we have the maximum number of tweets?\n",
    "\n",
    "9) Who is the most active user in the dataset?\n",
    "\n",
    "10) What is the average number of tweets in a day produced by the most active user?\n",
    "\n",
    "\n",
    "(°) Result of functions should be rounded to 1 decimal place."
   ]
  },
  {
   "cell_type": "markdown",
   "metadata": {},
   "source": [
    "**B. In this part, we explore the textual aspect of the dataset**\n",
    "\n",
    "11) What is the mean score of all tweets?\n",
    "\n",
    "12) What is the mean score of tweets containing the string `\"good\"`?\n",
    "\n",
    "13) What is the mean score of tweets containing the string `\"bad\"`?\n",
    "\n",
    "14) What is the mean score of tweets issued by the most active user found in question 9?\n",
    "\n",
    "15) Which text is the most frequent one in all tweets?\n",
    "\n",
    "16) How many different users issued the most frequent tweet?\n",
    "\n",
    "17) What is the mean score of all tweets issued by those users?\n",
    "\n",
    "18) In tweets, users are quoted with a string starting with an `@` and then containing possibly uppercase and lowercase letters, digits and underscore `_`. Which user is the most quoted one (the result should be a string starting with an `@`)?\n",
    "\n",
    "19) How many different users issued at least a tweet quoting the most quoted user?\n",
    "\n",
    "20) What is the mean score of tweets quoting the most quoted user?"
   ]
  }
 ],
 "metadata": {
  "kernelspec": {
   "display_name": "Python 3 (ipykernel)",
   "language": "python",
   "name": "python3"
  },
  "language_info": {
   "codemirror_mode": {
    "name": "ipython",
    "version": 3
   },
   "file_extension": ".py",
   "mimetype": "text/x-python",
   "name": "python",
   "nbconvert_exporter": "python",
   "pygments_lexer": "ipython3",
   "version": "3.10.12"
  }
 },
 "nbformat": 4,
 "nbformat_minor": 4
}
